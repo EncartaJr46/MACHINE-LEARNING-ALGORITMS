{
 "cells": [
  {
   "cell_type": "code",
   "execution_count": 1,
   "id": "b07d9ef5",
   "metadata": {},
   "outputs": [],
   "source": [
    "import numpy as np\n",
    "from sklearn.datasets import make_regression\n",
    "import matplotlib.pyplot as plt"
   ]
  },
  {
   "cell_type": "markdown",
   "id": "5878deb5",
   "metadata": {},
   "source": [
    "# 1.DATASET"
   ]
  },
  {
   "cell_type": "code",
   "execution_count": 2,
   "id": "04fb51c9",
   "metadata": {},
   "outputs": [
    {
     "data": {
      "text/plain": [
       "<matplotlib.collections.PathCollection at 0x2726aa14dc0>"
      ]
     },
     "execution_count": 2,
     "metadata": {},
     "output_type": "execute_result"
    },
    {
     "data": {
      "image/png": "[encoded data removed]",
      "text/plain": [
       "<Figure size 432x288 with 1 Axes>"
      ]
     },
     "metadata": {
      "needs_background": "light"
     },
     "output_type": "display_data"
    }
   ],
   "source": [
    "x , y = make_regression(n_samples=100 , n_features=1 , noise=10)\n",
    "plt.scatter(x , y)"
   ]
  },
  {
   "cell_type": "code",
   "execution_count": 3,
   "id": "81069d0b",
   "metadata": {},
   "outputs": [
    {
     "name": "stdout",
     "output_type": "stream",
     "text": [
      "(100, 1)\n",
      "(100,)\n"
     ]
    }
   ],
   "source": [
    "print(x.shape)\n",
    "print(y.shape)"
   ]
  },
  {
   "cell_type": "code",
   "execution_count": 4,
   "id": "90939be9",
   "metadata": {},
   "outputs": [
    {
     "name": "stdout",
     "output_type": "stream",
     "text": [
      "(100, 1)\n",
      "(100, 1)\n"
     ]
    }
   ],
   "source": [
    "print(x.shape)\n",
    "y = y.reshape(y.shape[0] , 1)\n",
    "print(y.shape)"
   ]
  },
  {
   "cell_type": "code",
   "execution_count": 8,
   "id": "502e3489",
   "metadata": {},
   "outputs": [
    {
     "data": {
      "text/plain": [
       "(100, 2)"
      ]
     },
     "execution_count": 8,
     "metadata": {},
     "output_type": "execute_result"
    }
   ],
   "source": [
    "#La Matrice X\n",
    "X=np.hstack((x , np.ones(x.shape)))\n",
    "X.shape"
   ]
  },
  {
   "cell_type": "code",
   "execution_count": 9,
   "id": "18909d90",
   "metadata": {},
   "outputs": [
    {
     "data": {
      "text/plain": [
       "array([[ 1.05502282e-01,  1.00000000e+00],\n",
       "       [-4.43698933e-01,  1.00000000e+00],\n",
       "       [-7.65975230e-01,  1.00000000e+00],\n",
       "       [-6.16084179e-01,  1.00000000e+00],\n",
       "       [-3.72461549e-01,  1.00000000e+00],\n",
       "       [-1.30764523e+00,  1.00000000e+00],\n",
       "       [-8.17395570e-01,  1.00000000e+00],\n",
       "       [-2.96852542e-01,  1.00000000e+00],\n",
       "       [-6.39536674e-01,  1.00000000e+00],\n",
       "       [ 2.53475980e-01,  1.00000000e+00],\n",
       "       [ 1.79204426e+00,  1.00000000e+00],\n",
       "       [-1.24287386e+00,  1.00000000e+00],\n",
       "       [-3.82773336e-01,  1.00000000e+00],\n",
       "       [-3.21065820e-01,  1.00000000e+00],\n",
       "       [ 3.11814392e-02,  1.00000000e+00],\n",
       "       [-6.98702518e-01,  1.00000000e+00],\n",
       "       [ 1.86271408e+00,  1.00000000e+00],\n",
       "       [ 9.79858508e-02,  1.00000000e+00],\n",
       "       [-8.91631757e-01,  1.00000000e+00],\n",
       "       [ 2.79204413e-01,  1.00000000e+00],\n",
       "       [-2.61228133e+00,  1.00000000e+00],\n",
       "       [-5.41661979e-01,  1.00000000e+00],\n",
       "       [-1.50139743e+00,  1.00000000e+00],\n",
       "       [ 3.15789807e-01,  1.00000000e+00],\n",
       "       [ 2.49437596e-01,  1.00000000e+00],\n",
       "       [-2.22545318e+00,  1.00000000e+00],\n",
       "       [-2.71319067e-01,  1.00000000e+00],\n",
       "       [ 7.55108803e-01,  1.00000000e+00],\n",
       "       [ 3.72779589e-01,  1.00000000e+00],\n",
       "       [-2.08274030e+00,  1.00000000e+00],\n",
       "       [-9.45519222e-01,  1.00000000e+00],\n",
       "       [ 2.22667425e+00,  1.00000000e+00],\n",
       "       [-2.10541643e-01,  1.00000000e+00],\n",
       "       [ 4.20630349e-01,  1.00000000e+00],\n",
       "       [-9.19691645e-01,  1.00000000e+00],\n",
       "       [ 1.15682757e+00,  1.00000000e+00],\n",
       "       [ 2.19878473e+00,  1.00000000e+00],\n",
       "       [ 3.48134704e-02,  1.00000000e+00],\n",
       "       [ 1.66867377e+00,  1.00000000e+00],\n",
       "       [ 7.28148239e-01,  1.00000000e+00],\n",
       "       [-1.10478379e+00,  1.00000000e+00],\n",
       "       [ 1.57300489e+00,  1.00000000e+00],\n",
       "       [ 7.32909310e-01,  1.00000000e+00],\n",
       "       [-5.50805924e-01,  1.00000000e+00],\n",
       "       [-1.00434861e-01,  1.00000000e+00],\n",
       "       [-2.69702903e+00,  1.00000000e+00],\n",
       "       [ 1.17975685e+00,  1.00000000e+00],\n",
       "       [ 8.95045255e-01,  1.00000000e+00],\n",
       "       [ 1.88363583e-01,  1.00000000e+00],\n",
       "       [-1.92095885e+00,  1.00000000e+00],\n",
       "       [-8.84165507e-01,  1.00000000e+00],\n",
       "       [ 8.75169878e-01,  1.00000000e+00],\n",
       "       [-9.62675203e-01,  1.00000000e+00],\n",
       "       [-9.83555371e-02,  1.00000000e+00],\n",
       "       [-7.65770646e-01,  1.00000000e+00],\n",
       "       [-8.25329194e-01,  1.00000000e+00],\n",
       "       [ 1.02484548e+00,  1.00000000e+00],\n",
       "       [-2.00037091e-03,  1.00000000e+00],\n",
       "       [-1.40040253e+00,  1.00000000e+00],\n",
       "       [ 3.96118901e-01,  1.00000000e+00],\n",
       "       [ 5.48008954e-01,  1.00000000e+00],\n",
       "       [-1.00019584e+00,  1.00000000e+00],\n",
       "       [-4.68054278e-02,  1.00000000e+00],\n",
       "       [-1.29840125e+00,  1.00000000e+00],\n",
       "       [ 1.92404189e+00,  1.00000000e+00],\n",
       "       [ 7.89497446e-02,  1.00000000e+00],\n",
       "       [-8.82406708e-01,  1.00000000e+00],\n",
       "       [-3.64852499e-01,  1.00000000e+00],\n",
       "       [ 5.84867708e-01,  1.00000000e+00],\n",
       "       [-3.52672682e-01,  1.00000000e+00],\n",
       "       [-4.37409545e-01,  1.00000000e+00],\n",
       "       [-1.21123282e+00,  1.00000000e+00],\n",
       "       [-2.38156241e+00,  1.00000000e+00],\n",
       "       [-2.18806649e+00,  1.00000000e+00],\n",
       "       [ 2.81400261e-02,  1.00000000e+00],\n",
       "       [-2.50122958e-01,  1.00000000e+00],\n",
       "       [ 1.44552987e+00,  1.00000000e+00],\n",
       "       [-6.95141947e-01,  1.00000000e+00],\n",
       "       [ 7.62748641e-01,  1.00000000e+00],\n",
       "       [ 2.75098668e+00,  1.00000000e+00],\n",
       "       [ 1.38534459e+00,  1.00000000e+00],\n",
       "       [-1.79169090e-01,  1.00000000e+00],\n",
       "       [-1.92303321e+00,  1.00000000e+00],\n",
       "       [ 1.38155738e+00,  1.00000000e+00],\n",
       "       [ 8.92283128e-03,  1.00000000e+00],\n",
       "       [-9.37666143e-01,  1.00000000e+00],\n",
       "       [ 2.92963622e-01,  1.00000000e+00],\n",
       "       [-3.02347847e-01,  1.00000000e+00],\n",
       "       [ 1.48343005e+00,  1.00000000e+00],\n",
       "       [ 1.65141551e-01,  1.00000000e+00],\n",
       "       [ 1.34897700e-01,  1.00000000e+00],\n",
       "       [-1.04641558e+00,  1.00000000e+00],\n",
       "       [-5.02113747e-01,  1.00000000e+00],\n",
       "       [ 1.16762675e-01,  1.00000000e+00],\n",
       "       [ 6.16145906e-01,  1.00000000e+00],\n",
       "       [ 2.70266818e-01,  1.00000000e+00],\n",
       "       [-1.18847623e-02,  1.00000000e+00],\n",
       "       [-1.40992193e-01,  1.00000000e+00],\n",
       "       [ 2.22091060e-01,  1.00000000e+00],\n",
       "       [-4.02496261e-01,  1.00000000e+00]])"
      ]
     },
     "execution_count": 9,
     "metadata": {},
     "output_type": "execute_result"
    }
   ],
   "source": []
  },
  {
   "cell_type": "code",
   "execution_count": 10,
   "id": "08682eb6",
   "metadata": {},
   "outputs": [
    {
     "data": {
      "text/plain": [
       "(2, 1)"
      ]
     },
     "execution_count": 10,
     "metadata": {},
     "output_type": "execute_result"
    }
   ],
   "source": [
    "#Vecteur Theta\n",
    "theta = np.random.randn(2,1)\n",
    "theta.shape"
   ]
  },
  {
   "cell_type": "code",
   "execution_count": 11,
   "id": "040df816",
   "metadata": {},
   "outputs": [
    {
     "data": {
      "text/plain": [
       "array([[-0.52777576],\n",
       "       [ 0.48279447]])"
      ]
     },
     "execution_count": 11,
     "metadata": {},
     "output_type": "execute_result"
    }
   ],
   "source": [
    "theta"
   ]
  },
  {
   "cell_type": "markdown",
   "id": "647ecf26",
   "metadata": {},
   "source": [
    "# 2.MODELE"
   ]
  },
  {
   "cell_type": "code",
   "execution_count": 12,
   "id": "e49484c4",
   "metadata": {},
   "outputs": [],
   "source": [
    "def model (X , theta):\n",
    "    return X.dot(theta)"
   ]
  },
  {
   "cell_type": "code",
   "execution_count": 13,
   "id": "c9d0cba7",
   "metadata": {},
   "outputs": [
    {
     "data": {
      "text/plain": [
       "array([[ 0.42711292],\n",
       "       [ 0.71696801],\n",
       "       [ 0.88705763],\n",
       "       [ 0.80794877],\n",
       "       [ 0.67937065],\n",
       "       [ 1.17293793],\n",
       "       [ 0.91419604],\n",
       "       [ 0.63946605],\n",
       "       [ 0.82032643],\n",
       "       [ 0.34901599],\n",
       "       [-0.46300305],\n",
       "       [ 1.13875317],\n",
       "       [ 0.68481296],\n",
       "       [ 0.65224523],\n",
       "       [ 0.46633766],\n",
       "       [ 0.85155273],\n",
       "       [-0.50030087],\n",
       "       [ 0.43107991],\n",
       "       [ 0.9533761 ],\n",
       "       [ 0.33543715],\n",
       "       [ 1.86149324],\n",
       "       [ 0.76867053],\n",
       "       [ 1.27519565],\n",
       "       [ 0.31612827],\n",
       "       [ 0.35114735],\n",
       "       [ 1.65733472],\n",
       "       [ 0.6259901 ],\n",
       "       [ 0.08426635],\n",
       "       [ 0.28605044],\n",
       "       [ 1.58201432],\n",
       "       [ 0.9818166 ],\n",
       "       [-0.69239022],\n",
       "       [ 0.59391325],\n",
       "       [ 0.26079597],\n",
       "       [ 0.96818543],\n",
       "       [-0.12775108],\n",
       "       [-0.67767081],\n",
       "       [ 0.46442077],\n",
       "       [-0.3978911 ],\n",
       "       [ 0.09849548],\n",
       "       [ 1.06587258],\n",
       "       [-0.34739938],\n",
       "       [ 0.0959827 ],\n",
       "       [ 0.77349649],\n",
       "       [ 0.53580156],\n",
       "       [ 1.90622102],\n",
       "       [-0.1398526 ],\n",
       "       [ 0.01041128],\n",
       "       [ 0.38338074],\n",
       "       [ 1.49662999],\n",
       "       [ 0.94943559],\n",
       "       [ 0.02090102],\n",
       "       [ 0.99087111],\n",
       "       [ 0.53470414],\n",
       "       [ 0.88694966],\n",
       "       [ 0.91838322],\n",
       "       [-0.05809413],\n",
       "       [ 0.48385022],\n",
       "       [ 1.22189299],\n",
       "       [ 0.27373252],\n",
       "       [ 0.19356863],\n",
       "       [ 1.01067359],\n",
       "       [ 0.50749724],\n",
       "       [ 1.16805918],\n",
       "       [-0.5326682 ],\n",
       "       [ 0.44112671],\n",
       "       [ 0.94850734],\n",
       "       [ 0.67535478],\n",
       "       [ 0.17411547],\n",
       "       [ 0.66892656],\n",
       "       [ 0.71364863],\n",
       "       [ 1.12205379],\n",
       "       [ 1.73972539],\n",
       "       [ 1.63760293],\n",
       "       [ 0.46794285],\n",
       "       [ 0.61480331],\n",
       "       [-0.28012116],\n",
       "       [ 0.84967354],\n",
       "       [ 0.08023423],\n",
       "       [-0.96910962],\n",
       "       [-0.24835682],\n",
       "       [ 0.57735557],\n",
       "       [ 1.49772479],\n",
       "       [-0.24635803],\n",
       "       [ 0.47808522],\n",
       "       [ 0.97767193],\n",
       "       [ 0.32817537],\n",
       "       [ 0.64236634],\n",
       "       [-0.30012395],\n",
       "       [ 0.39563676],\n",
       "       [ 0.41159874],\n",
       "       [ 1.03506725],\n",
       "       [ 0.74779794],\n",
       "       [ 0.42116996],\n",
       "       [ 0.1576076 ],\n",
       "       [ 0.3401542 ],\n",
       "       [ 0.48906696],\n",
       "       [ 0.55720673],\n",
       "       [ 0.36558019],\n",
       "       [ 0.69522224]])"
      ]
     },
     "execution_count": 13,
     "metadata": {},
     "output_type": "execute_result"
    }
   ],
   "source": [
    "model(X , theta)"
   ]
  },
  {
   "cell_type": "code",
   "execution_count": 17,
   "id": "732ed965",
   "metadata": {},
   "outputs": [
    {
     "data": {
      "text/plain": [
       "[<matplotlib.lines.Line2D at 0x2726f90e760>]"
      ]
     },
     "execution_count": 17,
     "metadata": {},
     "output_type": "execute_result"
    },
    {
     "data": {
      "image/png": "[encoded data removed]",
      "text/plain": [
       "<Figure size 432x288 with 1 Axes>"
      ]
     },
     "metadata": {
      "needs_background": "light"
     },
     "output_type": "display_data"
    }
   ],
   "source": [
    "plt.plot(x , model(X , theta))"
   ]
  },
  {
   "cell_type": "code",
   "execution_count": 24,
   "id": "9cd2921a",
   "metadata": {},
   "outputs": [
    {
     "data": {
      "text/plain": [
       "[<matplotlib.lines.Line2D at 0x2726fbcfc40>]"
      ]
     },
     "execution_count": 24,
     "metadata": {},
     "output_type": "execute_result"
    },
    {
     "data": {
      "image/png": "[encoded data removed]",
      "text/plain": [
       "<Figure size 432x288 with 1 Axes>"
      ]
     },
     "metadata": {
      "needs_background": "light"
     },
     "output_type": "display_data"
    }
   ],
   "source": [
    "plt.scatter(x , y)\n",
    "plt.plot(x , model(X , theta), c = \"g\")"
   ]
  },
  {
   "cell_type": "markdown",
   "id": "b6ad6e85",
   "metadata": {},
   "source": [
    "# 3.FONCTION COUP"
   ]
  },
  {
   "cell_type": "code",
   "execution_count": 45,
   "id": "eb545eee",
   "metadata": {},
   "outputs": [],
   "source": [
    "def cost_function(X , y , theta):\n",
    "    m=len(y)\n",
    "    return 1/(2*m) * np.sum((model(X , theta) - y) **2) \n"
   ]
  },
  {
   "cell_type": "code",
   "execution_count": 46,
   "id": "86b80bc0",
   "metadata": {},
   "outputs": [
    {
     "data": {
      "text/plain": [
       "3953.5984508267834"
      ]
     },
     "execution_count": 46,
     "metadata": {},
     "output_type": "execute_result"
    }
   ],
   "source": [
    "cost_function(X , y , theta)"
   ]
  },
  {
   "cell_type": "markdown",
   "id": "4077d93a",
   "metadata": {},
   "source": [
    "# 4.GRADIENTS ET DESCENTE DE GRADIENT"
   ]
  },
  {
   "cell_type": "code",
   "execution_count": 91,
   "id": "8664d21c",
   "metadata": {},
   "outputs": [],
   "source": [
    "def grad(X , y , theta):\n",
    "    m=len(y)\n",
    "    return 1/m * X.T.dot(model(X , theta) - y)"
   ]
  },
  {
   "cell_type": "code",
   "execution_count": 92,
   "id": "e0d39f54",
   "metadata": {},
   "outputs": [],
   "source": [
    "def gradient_descent(X , y , theta , learning_rate , n_iterations):\n",
    "    \n",
    "    for i in range (0 , n_iterations):\n",
    "        theta = theta - learning_rate * grad(X , y , theta)\n",
    "    return theta"
   ]
  },
  {
   "cell_type": "markdown",
   "id": "5529f657",
   "metadata": {},
   "source": [
    "# 5.MACHINE LEARNING"
   ]
  },
  {
   "cell_type": "code",
   "execution_count": 93,
   "id": "1eb00e1f",
   "metadata": {},
   "outputs": [],
   "source": [
    "theta_final = gradient_descent(X , y , theta , learning_rate = 0.01 , n_iterations = 10000)"
   ]
  },
  {
   "cell_type": "code",
   "execution_count": 94,
   "id": "68d79167",
   "metadata": {},
   "outputs": [
    {
     "data": {
      "text/plain": [
       "array([[80.42083953],\n",
       "       [ 0.3841033 ]])"
      ]
     },
     "execution_count": 94,
     "metadata": {},
     "output_type": "execute_result"
    }
   ],
   "source": [
    "theta_final"
   ]
  },
  {
   "cell_type": "code",
   "execution_count": 95,
   "id": "cf7f65a3",
   "metadata": {},
   "outputs": [
    {
     "data": {
      "text/plain": [
       "[<matplotlib.lines.Line2D at 0x272709a9e50>]"
      ]
     },
     "execution_count": 95,
     "metadata": {},
     "output_type": "execute_result"
    },
    {
     "data": {
      "image/png": "[encoded data removed]",
      "text/plain": [
       "<Figure size 432x288 with 1 Axes>"
      ]
     },
     "metadata": {
      "needs_background": "light"
     },
     "output_type": "display_data"
    }
   ],
   "source": [
    "predictions = model(X , theta_final)\n",
    "plt.scatter(x , y)\n",
    "plt.plot(x , predictions , c = 'g')"
   ]
  },
  {
   "cell_type": "markdown",
   "id": "43a32ff0",
   "metadata": {},
   "source": [
    "# 6.MINIMISATION DE LA FONCTION COUP AVEC LE NOMBRE D'ITERATIONS (COURBE D'APPRENTISSAGE)"
   ]
  },
  {
   "cell_type": "code",
   "execution_count": 96,
   "id": "3d081d26",
   "metadata": {},
   "outputs": [],
   "source": [
    "def gradient_descent(X , y , theta , learning_rate , n_iterations):\n",
    "    cost_history = np.zeros(n_iterations)\n",
    "    for i in range (0 , n_iterations):\n",
    "        theta = theta - learning_rate * grad(X , y , theta)\n",
    "        cost_history[i] = cost_function(X , y , theta)\n",
    "    return theta, cost_history"
   ]
  },
  {
   "cell_type": "code",
   "execution_count": 97,
   "id": "2efe5d54",
   "metadata": {},
   "outputs": [],
   "source": [
    "theta_final , cost_history = gradient_descent(X , y , theta , learning_rate = 0.01 , n_iterations = 1000)"
   ]
  },
  {
   "cell_type": "code",
   "execution_count": 98,
   "id": "b56db22c",
   "metadata": {},
   "outputs": [
    {
     "data": {
      "text/plain": [
       "[<matplotlib.lines.Line2D at 0x27270a0f580>]"
      ]
     },
     "execution_count": 98,
     "metadata": {},
     "output_type": "execute_result"
    },
    {
     "data": {
      "image/png": "[encoded data removed]",
      "text/plain": [
       "<Figure size 432x288 with 1 Axes>"
      ]
     },
     "metadata": {
      "needs_background": "light"
     },
     "output_type": "display_data"
    }
   ],
   "source": [
    "plt.plot(range(1000) , cost_history)"
   ]
  },
  {
   "cell_type": "markdown",
   "id": "fb961bd9",
   "metadata": {},
   "source": [
    "# 7.COEFFICIENT DE DETERMINATION (PERFORMENCE DU MODELE)"
   ]
  },
  {
   "cell_type": "markdown",
   "id": "01d74be1",
   "metadata": {},
   "source": [
    "Pour évaluer la performence d'un modèle de régression linéaire, on peut utliser le coefficient de détermination.\n",
    "\n",
    "$$R^2 = 1 - \\frac{\\sum(y-f(x))^2}{\\sum(y-\\overline y)^2}$$"
   ]
  },
  {
   "cell_type": "code",
   "execution_count": 99,
   "id": "6093ff13",
   "metadata": {},
   "outputs": [],
   "source": [
    "def coef_determination(y , pred):\n",
    "    u = ((y-pred) ** 2).sum()\n",
    "    v = ((y-y.mean()) ** 2).sum()\n",
    "    return 1-u/v"
   ]
  },
  {
   "cell_type": "code",
   "execution_count": 100,
   "id": "84771358",
   "metadata": {},
   "outputs": [
    {
     "data": {
      "text/plain": [
       "0.9831250157533132"
      ]
     },
     "execution_count": 100,
     "metadata": {},
     "output_type": "execute_result"
    }
   ],
   "source": [
    "coef_determination(y , predictions)"
   ]
  },
  {
   "cell_type": "code",
   "execution_count": null,
   "id": "ce5adcda",
   "metadata": {},
   "outputs": [],
   "source": []
  }
 ],
 "metadata": {
  "kernelspec": {
   "display_name": "Python 3 (ipykernel)",
   "language": "python",
   "name": "python3"
  },
  "language_info": {
   "codemirror_mode": {
    "name": "ipython",
    "version": 3
   },
   "file_extension": ".py",
   "mimetype": "text/x-python",
   "name": "python",
   "nbconvert_exporter": "python",
   "pygments_lexer": "ipython3",
   "version": "3.9.12"
  }
 },
 "nbformat": 4,
 "nbformat_minor": 5
}
